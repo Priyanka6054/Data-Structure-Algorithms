{
 "cells": [
  {
   "cell_type": "markdown",
   "id": "1efab08b",
   "metadata": {},
   "source": [
    "# Graphs:"
   ]
  },
  {
   "cell_type": "markdown",
   "id": "4b12597f",
   "metadata": {},
   "source": [
    "## 1. Breadth First Traversal for a Graph"
   ]
  },
  {
   "cell_type": "code",
   "execution_count": 1,
   "id": "d2e8f9ac",
   "metadata": {},
   "outputs": [
    {
     "name": "stdout",
     "output_type": "stream",
     "text": [
      "Breadth First Traversal starting from vertex 2:\n",
      "2 0 3 1 "
     ]
    }
   ],
   "source": [
    "from collections import defaultdict, deque\n",
    "\n",
    "class Graph:\n",
    "    def __init__(self):\n",
    "        self.graph = defaultdict(list)\n",
    "\n",
    "    def add_edge(self, u, v):\n",
    "        self.graph[u].append(v)\n",
    "\n",
    "    def bfs(self, start):\n",
    "        visited = set()\n",
    "        queue = deque([start])\n",
    "        visited.add(start)\n",
    "\n",
    "        while queue:\n",
    "            vertex = queue.popleft()\n",
    "            print(vertex, end=\" \")\n",
    "\n",
    "            for neighbor in self.graph[vertex]:\n",
    "                if neighbor not in visited:\n",
    "                    queue.append(neighbor)\n",
    "                    visited.add(neighbor)\n",
    "\n",
    "# Example usage:\n",
    "if __name__ == \"__main__\":\n",
    "    g = Graph()\n",
    "    g.add_edge(0, 1)\n",
    "    g.add_edge(0, 2)\n",
    "    g.add_edge(1, 2)\n",
    "    g.add_edge(2, 0)\n",
    "    g.add_edge(2, 3)\n",
    "    g.add_edge(3, 3)\n",
    "\n",
    "    print(\"Breadth First Traversal starting from vertex 2:\")\n",
    "    g.bfs(2)\n"
   ]
  },
  {
   "cell_type": "markdown",
   "id": "66c4f3cf",
   "metadata": {},
   "source": [
    "## 2. Depth First Traversal for a Graph"
   ]
  },
  {
   "cell_type": "code",
   "execution_count": 2,
   "id": "34c4fcb5",
   "metadata": {},
   "outputs": [
    {
     "name": "stdout",
     "output_type": "stream",
     "text": [
      "Depth First Traversal starting from vertex 2:\n",
      "2 0 1 3 "
     ]
    }
   ],
   "source": [
    "from collections import defaultdict\n",
    "\n",
    "class Graph:\n",
    "    def __init__(self):\n",
    "        self.graph = defaultdict(list)\n",
    "\n",
    "    def add_edge(self, u, v):\n",
    "        self.graph[u].append(v)\n",
    "\n",
    "    def dfs_util(self, vertex, visited):\n",
    "        visited.add(vertex)\n",
    "        print(vertex, end=\" \")\n",
    "\n",
    "        for neighbor in self.graph[vertex]:\n",
    "            if neighbor not in visited:\n",
    "                self.dfs_util(neighbor, visited)\n",
    "\n",
    "    def dfs(self, start):\n",
    "        visited = set()\n",
    "        self.dfs_util(start, visited)\n",
    "\n",
    "# Example usage:\n",
    "if __name__ == \"__main__\":\n",
    "    g = Graph()\n",
    "    g.add_edge(0, 1)\n",
    "    g.add_edge(0, 2)\n",
    "    g.add_edge(1, 2)\n",
    "    g.add_edge(2, 0)\n",
    "    g.add_edge(2, 3)\n",
    "    g.add_edge(3, 3)\n",
    "\n",
    "    print(\"Depth First Traversal starting from vertex 2:\")\n",
    "    g.dfs(2)\n"
   ]
  },
  {
   "cell_type": "markdown",
   "id": "e4ed430b",
   "metadata": {},
   "source": [
    "## 3. Count the number of nodes at given level in a tree using BFS"
   ]
  },
  {
   "cell_type": "code",
   "execution_count": 3,
   "id": "a8926274",
   "metadata": {},
   "outputs": [
    {
     "name": "stdout",
     "output_type": "stream",
     "text": [
      "Number of nodes at level 3 : 4\n"
     ]
    }
   ],
   "source": [
    "from collections import deque\n",
    "\n",
    "class TreeNode:\n",
    "    def __init__(self, key):\n",
    "        self.val = key\n",
    "        self.left = None\n",
    "        self.right = None\n",
    "\n",
    "def count_nodes_at_level(root, target_level):\n",
    "    if root is None:\n",
    "        return 0\n",
    "\n",
    "    level = 1\n",
    "    queue = deque([(root, level)])\n",
    "    count = 0\n",
    "\n",
    "    while queue:\n",
    "        node, current_level = queue.popleft()\n",
    "\n",
    "        if current_level == target_level:\n",
    "            count += 1\n",
    "\n",
    "        if node.left:\n",
    "            queue.append((node.left, current_level + 1))\n",
    "        if node.right:\n",
    "            queue.append((node.right, current_level + 1))\n",
    "\n",
    "    return count\n",
    "\n",
    "# Example usage:\n",
    "if __name__ == \"__main__\":\n",
    "    # Create a binary tree\n",
    "    root = TreeNode(1)\n",
    "    root.left = TreeNode(2)\n",
    "    root.right = TreeNode(3)\n",
    "    root.left.left = TreeNode(4)\n",
    "    root.left.right = TreeNode(5)\n",
    "    root.right.left = TreeNode(6)\n",
    "    root.right.right = TreeNode(7)\n",
    "\n",
    "    target_level = 3\n",
    "    print(\"Number of nodes at level\", target_level, \":\", count_nodes_at_level(root, target_level))\n"
   ]
  },
  {
   "cell_type": "markdown",
   "id": "080212c0",
   "metadata": {},
   "source": [
    "## 4. Count number of trees in a forest"
   ]
  },
  {
   "cell_type": "code",
   "execution_count": 4,
   "id": "8e143170",
   "metadata": {},
   "outputs": [
    {
     "name": "stdout",
     "output_type": "stream",
     "text": [
      "Number of trees in the forest: 2\n"
     ]
    }
   ],
   "source": [
    "from collections import defaultdict\n",
    "\n",
    "class Graph:\n",
    "    def __init__(self):\n",
    "        self.graph = defaultdict(list)\n",
    "\n",
    "    def add_edge(self, u, v):\n",
    "        self.graph[u].append(v)\n",
    "        self.graph[v].append(u)  # Assuming an undirected graph\n",
    "\n",
    "    def dfs_util(self, vertex, visited):\n",
    "        visited.add(vertex)\n",
    "\n",
    "        for neighbor in self.graph[vertex]:\n",
    "            if neighbor not in visited:\n",
    "                self.dfs_util(neighbor, visited)\n",
    "\n",
    "    def count_trees(self):\n",
    "        visited = set()\n",
    "        num_trees = 0\n",
    "\n",
    "        for vertex in self.graph:\n",
    "            if vertex not in visited:\n",
    "                self.dfs_util(vertex, visited)\n",
    "                num_trees += 1\n",
    "\n",
    "        return num_trees\n",
    "\n",
    "# Example usage:\n",
    "if __name__ == \"__main__\":\n",
    "    g = Graph()\n",
    "    g.add_edge(0, 1)\n",
    "    g.add_edge(0, 2)\n",
    "    g.add_edge(3, 4)\n",
    "\n",
    "    print(\"Number of trees in the forest:\", g.count_trees())"
   ]
  },
  {
   "cell_type": "markdown",
   "id": "265075b3",
   "metadata": {},
   "source": [
    "## 5. Detect Cycle in a Directed Graph"
   ]
  },
  {
   "cell_type": "code",
   "execution_count": 5,
   "id": "0c98a46d",
   "metadata": {},
   "outputs": [
    {
     "name": "stdout",
     "output_type": "stream",
     "text": [
      "The graph contains a cycle.\n"
     ]
    }
   ],
   "source": [
    "from collections import defaultdict\n",
    "\n",
    "class Graph:\n",
    "    def __init__(self, vertices):\n",
    "        self.graph = defaultdict(list)\n",
    "        self.vertices = vertices\n",
    "\n",
    "    def add_edge(self, u, v):\n",
    "        self.graph[u].append(v)\n",
    "\n",
    "    def is_cyclic_util(self, v, visited, recursion_stack):\n",
    "        visited[v] = True\n",
    "        recursion_stack[v] = True\n",
    "\n",
    "        for neighbor in self.graph[v]:\n",
    "            if not visited[neighbor]:\n",
    "                if self.is_cyclic_util(neighbor, visited, recursion_stack):\n",
    "                    return True\n",
    "            elif recursion_stack[neighbor]:\n",
    "                return True\n",
    "\n",
    "        recursion_stack[v] = False\n",
    "        return False\n",
    "\n",
    "    def is_cyclic(self):\n",
    "        visited = [False] * self.vertices\n",
    "        recursion_stack = [False] * self.vertices\n",
    "\n",
    "        for node in range(self.vertices):\n",
    "            if not visited[node]:\n",
    "                if self.is_cyclic_util(node, visited, recursion_stack):\n",
    "                    return True\n",
    "\n",
    "        return False\n",
    "\n",
    "# Example usage:\n",
    "if __name__ == \"__main__\":\n",
    "    g = Graph(4)\n",
    "    g.add_edge(0, 1)\n",
    "    g.add_edge(0, 2)\n",
    "    g.add_edge(1, 2)\n",
    "    g.add_edge(2, 0)\n",
    "    g.add_edge(2, 3)\n",
    "    g.add_edge(3, 3)\n",
    "\n",
    "    if g.is_cyclic():\n",
    "        print(\"The graph contains a cycle.\")\n",
    "    else:\n",
    "        print(\"The graph does not contain a cycle.\")\n"
   ]
  },
  {
   "cell_type": "markdown",
   "id": "b937b19e",
   "metadata": {},
   "source": [
    "## Below question is a miscellaneous question\n",
    "\n",
    "- **Implement n-Queen’s Problem"
   ]
  },
  {
   "cell_type": "code",
   "execution_count": 6,
   "id": "a384585c",
   "metadata": {},
   "outputs": [
    {
     "name": "stdout",
     "output_type": "stream",
     "text": [
      "Number of solutions for 4-Queens problem: 2\n",
      "Solutions:\n",
      ". Q . .\n",
      ". . . Q\n",
      "Q . . .\n",
      ". . Q .\n",
      "\n",
      ". . Q .\n",
      "Q . . .\n",
      ". . . Q\n",
      ". Q . .\n",
      "\n"
     ]
    }
   ],
   "source": [
    "class NQueens:\n",
    "    def __init__(self, n):\n",
    "        self.n = n\n",
    "        self.board = [[0] * n for _ in range(n)]\n",
    "        self.solutions = []\n",
    "\n",
    "    def is_safe(self, row, col):\n",
    "        # Check if there is a queen in the same column\n",
    "        for i in range(row):\n",
    "            if self.board[i][col] == 1:\n",
    "                return False\n",
    "\n",
    "        # Check upper left diagonal\n",
    "        for i, j in zip(range(row, -1, -1), range(col, -1, -1)):\n",
    "            if self.board[i][j] == 1:\n",
    "                return False\n",
    "\n",
    "        # Check upper right diagonal\n",
    "        for i, j in zip(range(row, -1, -1), range(col, self.n)):\n",
    "            if self.board[i][j] == 1:\n",
    "                return False\n",
    "\n",
    "        return True\n",
    "\n",
    "    def solve_nqueens(self, row=0):\n",
    "        if row == self.n:\n",
    "            self.solutions.append([row[:] for row in self.board])\n",
    "            return\n",
    "\n",
    "        for col in range(self.n):\n",
    "            if self.is_safe(row, col):\n",
    "                self.board[row][col] = 1\n",
    "                self.solve_nqueens(row + 1)\n",
    "                self.board[row][col] = 0\n",
    "\n",
    "    def print_solutions(self):\n",
    "        for solution in self.solutions:\n",
    "            for row in solution:\n",
    "                print(\" \".join(\"Q\" if cell == 1 else \".\" for cell in row))\n",
    "            print()\n",
    "\n",
    "# Example usage:\n",
    "if __name__ == \"__main__\":\n",
    "    n = 4\n",
    "    n_queens = NQueens(n)\n",
    "    n_queens.solve_nqueens()\n",
    "    print(f\"Number of solutions for {n}-Queens problem: {len(n_queens.solutions)}\")\n",
    "    print(\"Solutions:\")\n",
    "    n_queens.print_solutions()\n"
   ]
  },
  {
   "cell_type": "code",
   "execution_count": null,
   "id": "a941646b",
   "metadata": {},
   "outputs": [],
   "source": []
  },
  {
   "cell_type": "code",
   "execution_count": null,
   "id": "a5b475af",
   "metadata": {},
   "outputs": [],
   "source": []
  },
  {
   "cell_type": "code",
   "execution_count": null,
   "id": "cc26a003",
   "metadata": {},
   "outputs": [],
   "source": []
  }
 ],
 "metadata": {
  "kernelspec": {
   "display_name": "Python 3 (ipykernel)",
   "language": "python",
   "name": "python3"
  },
  "language_info": {
   "codemirror_mode": {
    "name": "ipython",
    "version": 3
   },
   "file_extension": ".py",
   "mimetype": "text/x-python",
   "name": "python",
   "nbconvert_exporter": "python",
   "pygments_lexer": "ipython3",
   "version": "3.11.4"
  }
 },
 "nbformat": 4,
 "nbformat_minor": 5
}
