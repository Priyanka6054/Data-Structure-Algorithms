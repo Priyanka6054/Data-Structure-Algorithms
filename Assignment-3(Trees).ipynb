{
 "cells": [
  {
   "cell_type": "markdown",
   "id": "bc3d313a",
   "metadata": {},
   "source": [
    "# Trees:"
   ]
  },
  {
   "cell_type": "markdown",
   "id": "39bb6066",
   "metadata": {},
   "source": [
    "## 1. Implement Binary tree"
   ]
  },
  {
   "cell_type": "code",
   "execution_count": 1,
   "id": "b26f9717",
   "metadata": {},
   "outputs": [
    {
     "name": "stdout",
     "output_type": "stream",
     "text": [
      "Root value: 1\n",
      "Left child value: 2\n",
      "Right child value: 3\n"
     ]
    }
   ],
   "source": [
    "class TreeNode:\n",
    "    def __init__(self, key):\n",
    "        self.val = key\n",
    "        self.left = None\n",
    "        self.right = None\n",
    "\n",
    "class BinaryTree:\n",
    "    def __init__(self):\n",
    "        self.root = None\n",
    "\n",
    "# Example usage:\n",
    "if __name__ == \"__main__\":\n",
    "    # Create a binary tree\n",
    "    tree = BinaryTree()\n",
    "    \n",
    "    # Set root node\n",
    "    tree.root = TreeNode(1)\n",
    "    \n",
    "    # Add child nodes\n",
    "    tree.root.left = TreeNode(2)\n",
    "    tree.root.right = TreeNode(3)\n",
    "    \n",
    "    # Print the values of the tree\n",
    "    print(\"Root value:\", tree.root.val)\n",
    "    print(\"Left child value:\", tree.root.left.val)\n",
    "    print(\"Right child value:\", tree.root.right.val)\n"
   ]
  },
  {
   "cell_type": "markdown",
   "id": "c465eebd",
   "metadata": {},
   "source": [
    "## 2. Find height of a given tree"
   ]
  },
  {
   "cell_type": "code",
   "execution_count": 2,
   "id": "7497d1bc",
   "metadata": {},
   "outputs": [
    {
     "name": "stdout",
     "output_type": "stream",
     "text": [
      "Height of the tree: 3\n"
     ]
    }
   ],
   "source": [
    "class TreeNode:\n",
    "    def __init__(self, key):\n",
    "        self.value = key\n",
    "        self.left = None\n",
    "        self.right = None\n",
    "        \n",
    "def tree_height(root):\n",
    "    if root is None:\n",
    "        return 0\n",
    "    else:\n",
    "        left_height = tree_height(root.left)\n",
    "        right_height = tree_height(root.right)\n",
    "\n",
    "        # Height of the tree is the maximum height of left and right subtrees, plus 1 for the current node\n",
    "        return max(left_height, right_height) + 1\n",
    "    \n",
    "# Example usage:\n",
    "if __name__ == \"__main__\":\n",
    "    # Create a binary tree\n",
    "    root = TreeNode(1)\n",
    "    root.left = TreeNode(2)\n",
    "    root.right = TreeNode(3)\n",
    "    root.left.left = TreeNode(4)\n",
    "    root.left.right = TreeNode(5)\n",
    "    root.right.right = TreeNode(6)\n",
    "\n",
    "    # Find the height of the tree\n",
    "    height = tree_height(root)\n",
    "    print(\"Height of the tree:\", height)\n",
    "        "
   ]
  },
  {
   "cell_type": "markdown",
   "id": "64693d24",
   "metadata": {},
   "source": [
    "## 3. Perform Pre-order, Post-order, In-order traversal"
   ]
  },
  {
   "cell_type": "code",
   "execution_count": 3,
   "id": "27a50f68",
   "metadata": {},
   "outputs": [
    {
     "name": "stdout",
     "output_type": "stream",
     "text": [
      "Pre-order traversal:\n",
      "1 2 4 5 3 6 \n",
      "Post-order traversal:\n",
      "4 5 2 6 3 1 \n",
      "In-order traversal:\n",
      "4 2 5 1 3 6 "
     ]
    }
   ],
   "source": [
    "class TreeNode:\n",
    "    def __init__(self, key):\n",
    "        self.val = key\n",
    "        self.left = None\n",
    "        self.right = None\n",
    "\n",
    "def preorder_traversal(root):   # Root-->Left-->Right\n",
    "    if root:\n",
    "        print(root.val, end=\" \")\n",
    "        preorder_traversal(root.left)\n",
    "        preorder_traversal(root.right)\n",
    "\n",
    "def postorder_traversal(root):   # Left-->Right-->Root\n",
    "    if root:\n",
    "        postorder_traversal(root.left)\n",
    "        postorder_traversal(root.right)\n",
    "        print(root.val, end=\" \")\n",
    "\n",
    "def inorder_traversal(root):   # left-->Root-->Right\n",
    "    if root:\n",
    "        inorder_traversal(root.left)\n",
    "        print(root.val, end=\" \")\n",
    "        inorder_traversal(root.right)\n",
    "\n",
    "# Example usage:\n",
    "if __name__ == \"__main__\":\n",
    "    # Create a binary tree\n",
    "    root = TreeNode(1)\n",
    "    root.left = TreeNode(2)\n",
    "    root.right = TreeNode(3)\n",
    "    root.left.left = TreeNode(4)\n",
    "    root.left.right = TreeNode(5)\n",
    "    root.right.right = TreeNode(6)\n",
    "\n",
    "    # Perform pre-order traversal\n",
    "    print(\"Pre-order traversal:\")\n",
    "    preorder_traversal(root)\n",
    "    print()\n",
    "\n",
    "    # Perform post-order traversal\n",
    "    print(\"Post-order traversal:\")\n",
    "    postorder_traversal(root)\n",
    "    print()\n",
    "\n",
    "    # Perform in-order traversal\n",
    "    print(\"In-order traversal:\")\n",
    "    inorder_traversal(root)\n"
   ]
  },
  {
   "cell_type": "markdown",
   "id": "08c6926e",
   "metadata": {},
   "source": [
    "## 4. Function to print all the leaves in a given binary tree"
   ]
  },
  {
   "cell_type": "code",
   "execution_count": 4,
   "id": "1f3aff88",
   "metadata": {},
   "outputs": [
    {
     "name": "stdout",
     "output_type": "stream",
     "text": [
      "Leaf nodes:\n",
      "7 8 5 6 "
     ]
    }
   ],
   "source": [
    "class TreeNode:\n",
    "    def __init__(self, key):\n",
    "        self.val = key\n",
    "        self.left = None\n",
    "        self.right = None\n",
    "\n",
    "def print_leaves(root):\n",
    "    if root:\n",
    "        # Check if the current node is a leaf node (i.e., both left and right children are None)\n",
    "        if root.left is None and root.right is None:\n",
    "            print(root.val, end=\" \")  # Print the value of the leaf node\n",
    "        # Recursively call the function on the left and right subtrees\n",
    "        else:\n",
    "            print_leaves(root.left)\n",
    "            print_leaves(root.right)\n",
    "\n",
    "# Example usage:\n",
    "if __name__ == \"__main__\":\n",
    "    # Create a binary tree\n",
    "    root = TreeNode(1)\n",
    "    root.left = TreeNode(2)\n",
    "    root.right = TreeNode(3)\n",
    "    root.left.left = TreeNode(4)\n",
    "    root.left.right = TreeNode(5)\n",
    "    root.right.right = TreeNode(6)\n",
    "    root.left.left.left = TreeNode(7)\n",
    "    root.left.left.right = TreeNode(8)\n",
    "\n",
    "    # Print all the leaf nodes\n",
    "    print(\"Leaf nodes:\")\n",
    "    print_leaves(root)\n"
   ]
  },
  {
   "cell_type": "markdown",
   "id": "e65cf2dc",
   "metadata": {},
   "source": [
    "##  5. Implement BFS (Breadth First Search) and DFS (Depth First Search)"
   ]
  },
  {
   "cell_type": "code",
   "execution_count": 8,
   "id": "bb3e7f81",
   "metadata": {},
   "outputs": [
    {
     "name": "stdout",
     "output_type": "stream",
     "text": [
      "Breadth First Search (BFS):\n",
      "1 2 3 4 5 6 7 \n",
      "Depth First Search (DFS) - Preorder:\n",
      "1 2 4 5 3 6 7 \n",
      "Depth First Search (DFS) - Inorder:\n",
      "4 2 5 1 6 3 7 \n",
      "Depth First Search (DFS) - Postorder:\n",
      "4 5 2 6 7 3 1 \n"
     ]
    }
   ],
   "source": [
    "class TreeNode:\n",
    "    def __init__(self, key):\n",
    "        self.val = key\n",
    "        self.left = None\n",
    "        self.right = None\n",
    "\n",
    "def bfs(root):\n",
    "    if root is None:\n",
    "        return\n",
    "\n",
    "    queue = [root]\n",
    "\n",
    "    while queue:\n",
    "        node = queue.pop(0)\n",
    "        print(node.val, end=\" \")\n",
    "\n",
    "        if node.left:\n",
    "            queue.append(node.left)\n",
    "        if node.right:\n",
    "            queue.append(node.right)\n",
    "\n",
    "def dfs_preorder(root):\n",
    "    if root is None:\n",
    "        return\n",
    "\n",
    "    print(root.val, end=\" \")\n",
    "    dfs_preorder(root.left)\n",
    "    dfs_preorder(root.right)\n",
    "\n",
    "def dfs_inorder(root):\n",
    "    if root is None:\n",
    "        return\n",
    "\n",
    "    dfs_inorder(root.left)\n",
    "    print(root.val, end=\" \")\n",
    "    dfs_inorder(root.right)\n",
    "\n",
    "def dfs_postorder(root):\n",
    "    if root is None:\n",
    "        return\n",
    "\n",
    "    dfs_postorder(root.left)\n",
    "    dfs_postorder(root.right)\n",
    "    print(root.val, end=\" \")\n",
    "\n",
    "# Example usage:\n",
    "if __name__ == \"__main__\":\n",
    "    # Create a binary tree\n",
    "    root = TreeNode(1)\n",
    "    root.left = TreeNode(2)\n",
    "    root.right = TreeNode(3)\n",
    "    root.left.left = TreeNode(4)\n",
    "    root.left.right = TreeNode(5)\n",
    "    root.right.left = TreeNode(6)\n",
    "    root.right.right = TreeNode(7)\n",
    "\n",
    "    # Breadth First Search (BFS)\n",
    "    print(\"Breadth First Search (BFS):\")\n",
    "    bfs(root)\n",
    "    print()\n",
    "\n",
    "    # Depth First Search (DFS) - Preorder\n",
    "    print(\"Depth First Search (DFS) - Preorder:\")\n",
    "    dfs_preorder(root)\n",
    "    print()\n",
    "\n",
    "    # Depth First Search (DFS) - Inorder\n",
    "    print(\"Depth First Search (DFS) - Inorder:\")\n",
    "    dfs_inorder(root)\n",
    "    print()\n",
    "\n",
    "    # Depth First Search (DFS) - Postorder\n",
    "    print(\"Depth First Search (DFS) - Postorder:\")\n",
    "    dfs_postorder(root)\n",
    "    print()\n"
   ]
  },
  {
   "cell_type": "markdown",
   "id": "7b3e0c67",
   "metadata": {},
   "source": [
    "## 6. Find sum of all left leaves in a given Binary Tree"
   ]
  },
  {
   "cell_type": "code",
   "execution_count": 9,
   "id": "60d99990",
   "metadata": {},
   "outputs": [
    {
     "name": "stdout",
     "output_type": "stream",
     "text": [
      "Sum of all left leaves: 4\n"
     ]
    }
   ],
   "source": [
    "class TreeNode:\n",
    "    def __init__(self, key):\n",
    "        self.val = key\n",
    "        self.left = None\n",
    "        self.right = None\n",
    "\n",
    "def sum_of_left_leaves(root):\n",
    "    if root is None:\n",
    "        return 0\n",
    "\n",
    "    def is_leaf(node):\n",
    "        return node.left is None and node.right is None\n",
    "\n",
    "    def dfs(node, is_left):\n",
    "        if node is None:\n",
    "            return 0\n",
    "        if is_left and is_leaf(node):\n",
    "            return node.val\n",
    "        return dfs(node.left, True) + dfs(node.right, False)\n",
    "\n",
    "    return dfs(root.left, True) + dfs(root.right, False)\n",
    "\n",
    "# Example usage:\n",
    "if __name__ == \"__main__\":\n",
    "    # Create a binary tree\n",
    "    root = TreeNode(1)\n",
    "    root.left = TreeNode(2)\n",
    "    root.right = TreeNode(3)\n",
    "    root.left.left = TreeNode(4)\n",
    "    root.left.right = TreeNode(5)\n",
    "    root.right.right = TreeNode(6)\n",
    "\n",
    "    # Find sum of all left leaves\n",
    "    print(\"Sum of all left leaves:\", sum_of_left_leaves(root))\n"
   ]
  },
  {
   "cell_type": "markdown",
   "id": "4a332fe9",
   "metadata": {},
   "source": [
    "## 7. Find sum of all nodes of the given perfect binary tree"
   ]
  },
  {
   "cell_type": "code",
   "execution_count": 12,
   "id": "e2a4adfc",
   "metadata": {},
   "outputs": [
    {
     "name": "stdout",
     "output_type": "stream",
     "text": [
      "Sum of all nodes in the perfect binary tree of height 3 : 77\n"
     ]
    }
   ],
   "source": [
    "def sum_of_perfect_binary_tree(height):\n",
    "    # Calculate the number of nodes in the perfect binary tree\n",
    "    num_nodes = 2**(height + 1) - 1\n",
    "    \n",
    "    # Calculate the sum of all nodes\n",
    "    # In a perfect binary tree, each level starts from 2^(h-1) and ends at 2^h - 1\n",
    "    # So, the sum of nodes for each level is (2^(h-1) + 2^h - 1) * 2^(h - level)\n",
    "    total_sum = 0\n",
    "    for level in range(1, height + 1):\n",
    "        total_sum += (2**(height - 1) + 2**height - 1) * 2**(height - level)\n",
    "    \n",
    "    return total_sum\n",
    "\n",
    "# Example usage:\n",
    "if __name__ == \"__main__\":\n",
    "    height = 3  # Height of the perfect binary tree\n",
    "    total_sum = sum_of_perfect_binary_tree(height)\n",
    "    print(\"Sum of all nodes in the perfect binary tree of height\", height, \":\", total_sum)\n"
   ]
  },
  {
   "cell_type": "code",
   "execution_count": 15,
   "id": "708ac4ec",
   "metadata": {},
   "outputs": [
    {
     "name": "stdout",
     "output_type": "stream",
     "text": [
      "Sum of all nodes using mathematical formula: 30\n"
     ]
    }
   ],
   "source": [
    "def sumNodesMath(l):\n",
    "    leafNodeCount = 2**(l - 1)\n",
    "    leaf_sum = leafNodeCount * (leafNodeCount + 1) // 2\n",
    "    total_sum = leaf_sum * l\n",
    "    return total_sum \n",
    "\n",
    "# Example usage:\n",
    "print(\"Sum of all nodes using mathematical formula:\", sumNodesMath(l))\n"
   ]
  },
  {
   "cell_type": "markdown",
   "id": "a9b2e860",
   "metadata": {},
   "source": [
    "## 8. Count subtress that sum up to a given value x in a binary tree"
   ]
  },
  {
   "cell_type": "code",
   "execution_count": 16,
   "id": "1208a9d0",
   "metadata": {},
   "outputs": [
    {
     "name": "stdout",
     "output_type": "stream",
     "text": [
      "Number of subtrees with sum 12 : 0\n"
     ]
    }
   ],
   "source": [
    "class TreeNode:\n",
    "    def __init__(self, key):\n",
    "        self.val = key\n",
    "        self.left = None\n",
    "        self.right = None\n",
    "\n",
    "def count_subtrees_with_sum(root, x):\n",
    "    if root is None:\n",
    "        return 0\n",
    "    \n",
    "    count = 0\n",
    "\n",
    "    def dfs(node):\n",
    "        nonlocal count\n",
    "        if node is None:\n",
    "            return 0\n",
    "        \n",
    "        left_sum = dfs(node.left)\n",
    "        right_sum = dfs(node.right)\n",
    "        subtree_sum = left_sum + right_sum + node.val\n",
    "\n",
    "        if subtree_sum == x:\n",
    "            count += 1\n",
    "\n",
    "        return subtree_sum\n",
    "\n",
    "    dfs(root)\n",
    "    return count\n",
    "\n",
    "# Example usage:\n",
    "if __name__ == \"__main__\":\n",
    "    # Create a binary tree\n",
    "    root = TreeNode(5)\n",
    "    root.left = TreeNode(3)\n",
    "    root.right = TreeNode(7)\n",
    "    root.left.left = TreeNode(2)\n",
    "    root.left.right = TreeNode(4)\n",
    "    root.right.left = TreeNode(6)\n",
    "    root.right.right = TreeNode(8)\n",
    "\n",
    "    x = 12\n",
    "    print(\"Number of subtrees with sum\", x, \":\", count_subtrees_with_sum(root, x))\n"
   ]
  },
  {
   "cell_type": "markdown",
   "id": "99e2b308",
   "metadata": {},
   "source": [
    "## 9. Find maximum level sum in Binary Tree"
   ]
  },
  {
   "cell_type": "code",
   "execution_count": 17,
   "id": "af5dda9f",
   "metadata": {},
   "outputs": [
    {
     "name": "stdout",
     "output_type": "stream",
     "text": [
      "Maximum level sum: 2\n"
     ]
    }
   ],
   "source": [
    "from collections import deque\n",
    "\n",
    "class TreeNode:\n",
    "    def __init__(self, key):\n",
    "        self.val = key\n",
    "        self.left = None\n",
    "        self.right = None\n",
    "\n",
    "def max_level_sum(root):\n",
    "    if root is None:\n",
    "        return 0\n",
    "    \n",
    "    max_sum = float(\"-inf\")\n",
    "    max_level = 0\n",
    "    level = 1\n",
    "    \n",
    "    queue = deque([root])\n",
    "\n",
    "    while queue:\n",
    "        level_sum = 0\n",
    "        level_size = len(queue)\n",
    "        \n",
    "        for _ in range(level_size):\n",
    "            node = queue.popleft()\n",
    "            level_sum += node.val\n",
    "            \n",
    "            if node.left:\n",
    "                queue.append(node.left)\n",
    "            if node.right:\n",
    "                queue.append(node.right)\n",
    "\n",
    "        if level_sum > max_sum:\n",
    "            max_sum = level_sum\n",
    "            max_level = level\n",
    "\n",
    "        level += 1\n",
    "    \n",
    "    return max_level\n",
    "\n",
    "# Example usage:\n",
    "if __name__ == \"__main__\":\n",
    "    # Create a binary tree\n",
    "    root = TreeNode(1)\n",
    "    root.left = TreeNode(7)\n",
    "    root.right = TreeNode(0)\n",
    "    root.left.left = TreeNode(7)\n",
    "    root.left.right = TreeNode(-8)\n",
    "\n",
    "    print(\"Maximum level sum:\", max_level_sum(root))\n"
   ]
  },
  {
   "cell_type": "markdown",
   "id": "734623d6",
   "metadata": {},
   "source": [
    "## 10. Print the nodes at odd levels of a tree"
   ]
  },
  {
   "cell_type": "code",
   "execution_count": 18,
   "id": "95f69c9f",
   "metadata": {},
   "outputs": [
    {
     "name": "stdout",
     "output_type": "stream",
     "text": [
      "Nodes at odd levels:\n",
      "1 4 5 6 7 "
     ]
    }
   ],
   "source": [
    "class TreeNode:\n",
    "    def __init__(self, key):\n",
    "        self.val = key\n",
    "        self.left = None\n",
    "        self.right = None\n",
    "\n",
    "def print_nodes_at_odd_levels(root):\n",
    "    if root is None:\n",
    "        return\n",
    "    \n",
    "    def dfs(node, level):\n",
    "        if node is None:\n",
    "            return\n",
    "        \n",
    "        # If the level is odd, print the value of the node\n",
    "        if level % 2 != 0:\n",
    "            print(node.val, end=\" \")\n",
    "        \n",
    "        # Recursively traverse the left and right subtrees\n",
    "        dfs(node.left, level + 1)\n",
    "        dfs(node.right, level + 1)\n",
    "\n",
    "    dfs(root, 1)\n",
    "\n",
    "# Example usage:\n",
    "if __name__ == \"__main__\":\n",
    "    # Create a binary tree\n",
    "    root = TreeNode(1)\n",
    "    root.left = TreeNode(2)\n",
    "    root.right = TreeNode(3)\n",
    "    root.left.left = TreeNode(4)\n",
    "    root.left.right = TreeNode(5)\n",
    "    root.right.left = TreeNode(6)\n",
    "    root.right.right = TreeNode(7)\n",
    "\n",
    "    print(\"Nodes at odd levels:\")\n",
    "    print_nodes_at_odd_levels(root)\n"
   ]
  },
  {
   "cell_type": "code",
   "execution_count": null,
   "id": "cb53648d",
   "metadata": {},
   "outputs": [],
   "source": []
  }
 ],
 "metadata": {
  "kernelspec": {
   "display_name": "Python 3 (ipykernel)",
   "language": "python",
   "name": "python3"
  },
  "language_info": {
   "codemirror_mode": {
    "name": "ipython",
    "version": 3
   },
   "file_extension": ".py",
   "mimetype": "text/x-python",
   "name": "python",
   "nbconvert_exporter": "python",
   "pygments_lexer": "ipython3",
   "version": "3.11.4"
  }
 },
 "nbformat": 4,
 "nbformat_minor": 5
}
