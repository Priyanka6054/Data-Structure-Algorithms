{
 "cells": [
  {
   "cell_type": "markdown",
   "id": "37e61d41",
   "metadata": {},
   "source": [
    "# Searching & Sorting"
   ]
  },
  {
   "cell_type": "markdown",
   "id": "9752bd99",
   "metadata": {},
   "source": [
    "# 1. Implement Binary Search"
   ]
  },
  {
   "cell_type": "code",
   "execution_count": 1,
   "id": "5d91f8e2",
   "metadata": {},
   "outputs": [
    {
     "name": "stdout",
     "output_type": "stream",
     "text": [
      "Element 5 found at index 4\n"
     ]
    }
   ],
   "source": [
    "def binary_search(arr, target):\n",
    "    left = 0\n",
    "    right = len(arr) - 1\n",
    "\n",
    "    while left <= right:\n",
    "        mid = (left + right) // 2     \n",
    "        if arr[mid] == target:\n",
    "            return mid       \n",
    "        elif arr[mid] > target:\n",
    "            right = mid - 1        \n",
    "        else:\n",
    "            left = mid + 1\n",
    "\n",
    "   \n",
    "    return -1\n",
    "\n",
    "# Example usage:\n",
    "if __name__ == \"__main__\":\n",
    "    arr = [1, 2, 3, 4, 5, 6, 7, 8, 9]\n",
    "    target = 5\n",
    "    index = binary_search(arr, target)\n",
    "    if index != -1:\n",
    "        print(f\"Element {target} found at index {index}\")\n",
    "    else:\n",
    "        print(f\"Element {target} not found in the array\")\n"
   ]
  },
  {
   "cell_type": "code",
   "execution_count": 2,
   "id": "5e30a3f4",
   "metadata": {},
   "outputs": [
    {
     "name": "stdout",
     "output_type": "stream",
     "text": [
      "target 5 found at index location 3.\n"
     ]
    }
   ],
   "source": [
    "def binary_search(sorted_list, target):\n",
    "    start_ind = 0\n",
    "    end_ind = len(sorted_list) - 1\n",
    "\n",
    "    while start_ind <= end_ind:\n",
    "        mid_ind = (start_ind + end_ind) // 2\n",
    "        if sorted_list[mid_ind] == target:\n",
    "            return mid_ind\n",
    "        elif sorted_list[mid_ind] < target:\n",
    "            start_ind = mid_ind + 1\n",
    "        else:\n",
    "            end_ind = mid_ind - 1\n",
    "    return - 1\n",
    "\n",
    "my_list = [1, 3, 4, 5, 6, 9, 11, 15, 18, 20]\n",
    "target_value = 5\n",
    "result = binary_search(my_list, target_value)\n",
    "\n",
    "if result != -1:\n",
    "    print(f\"target {target_value} found at index location {result}.\")\n",
    "else:\n",
    "    print(f\"target {target_value} not found in the list\")"
   ]
  },
  {
   "cell_type": "markdown",
   "id": "80f55851",
   "metadata": {},
   "source": [
    "# 2. Implement Merge Sort"
   ]
  },
  {
   "cell_type": "code",
   "execution_count": 7,
   "id": "46c1454e",
   "metadata": {},
   "outputs": [
    {
     "name": "stdout",
     "output_type": "stream",
     "text": [
      "Original List: [38, 25, 43, 18, 57, 69, 23, 11]\n",
      "\n",
      "Sorted List: [11, 18, 23, 25, 38, 43, 57, 69]\n"
     ]
    }
   ],
   "source": [
    "def mergeSort(lst):\n",
    "    if len(lst) > 1:\n",
    "\n",
    "        ## Find the mid of the lst\n",
    "        mid = len(lst) // 2\n",
    "\n",
    "        ## Divide the list into half\n",
    "        L = lst[:mid]\n",
    "        R = lst[mid:]\n",
    "\n",
    "        mergeSort(L)\n",
    "        mergeSort(R)\n",
    "\n",
    "        i = j = k = 0\n",
    "\n",
    "        # Copy the data to temp lst L[] & R[]\n",
    "        while i < len(L) and j < len(R):\n",
    "            if L[i] <= R[j]:\n",
    "                lst[k] = L[i]\n",
    "                i = i + 1\n",
    "            else:\n",
    "                lst[k] = R[j]\n",
    "                j = j + 1\n",
    "            k = k + 1\n",
    "\n",
    "        # Check if any element was left\n",
    "        while i < len(L):\n",
    "            lst[k] = L[i]\n",
    "            i = i + 1\n",
    "            k = k + 1\n",
    "        while j < len(R):\n",
    "            lst[k] = R[j]\n",
    "            j = j + 1\n",
    "            k = k + 1\n",
    "\n",
    "def printList(lst):\n",
    "    for i in range(len(lst)):\n",
    "        print(lst[i], end = \" \")\n",
    "    print()\n",
    "\n",
    "# Example usage:\n",
    "if __name__ == \"__main__\":\n",
    "    lst = [38, 25, 43, 18, 57, 69, 23, 11]\n",
    "    print(\"Original List:\", lst)\n",
    "    \n",
    "    mergeSort(lst)\n",
    "    print(\"\\nSorted List:\", lst)"
   ]
  },
  {
   "cell_type": "markdown",
   "id": "4910c5cf",
   "metadata": {},
   "source": [
    "# 3. Implement Quick Sort"
   ]
  },
  {
   "cell_type": "code",
   "execution_count": 8,
   "id": "5450c26c",
   "metadata": {},
   "outputs": [
    {
     "name": "stdout",
     "output_type": "stream",
     "text": [
      "Original array: [12, 11, 13, 5, 6, 7]\n",
      "Sorted array: [5, 6, 7, 11, 12, 13]\n"
     ]
    }
   ],
   "source": [
    "def quick_sort(arr):\n",
    "    if len(arr) <= 1:\n",
    "        return arr\n",
    "    else:\n",
    "        pivot = arr[0]\n",
    "        less_than_pivot = [x for x in arr[1:] if x <= pivot]\n",
    "        greater_than_pivot = [x for x in arr[1:] if x > pivot]\n",
    "        return quick_sort(less_than_pivot) + [pivot] + quick_sort(greater_than_pivot)\n",
    "\n",
    "# Example usage:\n",
    "if __name__ == \"__main__\":\n",
    "    arr = [12, 11, 13, 5, 6, 7]\n",
    "    print(\"Original array:\", arr)\n",
    "    sorted_arr = quick_sort(arr)\n",
    "    print(\"Sorted array:\", sorted_arr)\n"
   ]
  },
  {
   "cell_type": "markdown",
   "id": "6e9d412c",
   "metadata": {},
   "source": [
    "# 4. Implement Insertion Sort"
   ]
  },
  {
   "cell_type": "code",
   "execution_count": 10,
   "id": "a6129a0e",
   "metadata": {},
   "outputs": [
    {
     "name": "stdout",
     "output_type": "stream",
     "text": [
      "Original array: [54, 75, 12, 38, 18, 49, 22, 14]\n",
      "Sorted array: [12, 14, 18, 22, 38, 49, 54, 75]\n"
     ]
    }
   ],
   "source": [
    "def insertion_sort(arr):\n",
    "    for i in range(1, len(arr)):\n",
    "        key = arr[i]\n",
    "        j = i - 1\n",
    "        # Move elements of arr[0..i-1], that are greater than key, to one position ahead of their current position\n",
    "        while j >= 0 and arr[j] > key:\n",
    "            arr[j + 1] = arr[j]\n",
    "            j -= 1\n",
    "        arr[j + 1] = key\n",
    "\n",
    "# Example usage:\n",
    "if __name__ == \"__main__\":\n",
    "    arr = [54, 75, 12, 38, 18, 49, 22, 14]\n",
    "    print(\"Original array:\", arr)\n",
    "    insertion_sort(arr)\n",
    "    print(\"Sorted array:\", arr)\n"
   ]
  },
  {
   "cell_type": "markdown",
   "id": "d1f81760",
   "metadata": {},
   "source": [
    "# 5. Write a program to sort list of strings (similar to that of dictionary)"
   ]
  },
  {
   "cell_type": "code",
   "execution_count": 13,
   "id": "1513c848",
   "metadata": {},
   "outputs": [
    {
     "name": "stdout",
     "output_type": "stream",
     "text": [
      "Sorted strings (using sorted()): ['apple', 'banana', 'grape', 'kiwi', 'orange']\n",
      "\n",
      " Sorted strings (in-place using sort()): ['apple', 'banana', 'grape', 'kiwi', 'orange']\n"
     ]
    }
   ],
   "source": [
    "def sort_strings_lexicographically(strings):\n",
    "    return sorted(strings)\n",
    "\n",
    "def sort_strings_lexicographically_inplace(strings):\n",
    "    strings.sort()\n",
    "\n",
    "# Example usage:\n",
    "if __name__ == \"__main__\":\n",
    "    strings = [\"banana\", \"apple\", \"orange\", \"grape\", \"kiwi\"]\n",
    "    \n",
    "    # Sort strings lexicographically using sorted() function\n",
    "    sorted_strings = sort_strings_lexicographically(strings)\n",
    "    print(\"Sorted strings (using sorted()):\", sorted_strings)\n",
    "    \n",
    "    # Sort strings lexicographically in-place using sort() method\n",
    "    sort_strings_lexicographically_inplace(strings)\n",
    "    print(\"\\n Sorted strings (in-place using sort()):\", strings)\n"
   ]
  },
  {
   "cell_type": "code",
   "execution_count": null,
   "id": "d0941f57",
   "metadata": {},
   "outputs": [],
   "source": []
  },
  {
   "cell_type": "code",
   "execution_count": null,
   "id": "48c3c939",
   "metadata": {},
   "outputs": [],
   "source": []
  },
  {
   "cell_type": "code",
   "execution_count": null,
   "id": "a5f2364d",
   "metadata": {},
   "outputs": [],
   "source": []
  }
 ],
 "metadata": {
  "kernelspec": {
   "display_name": "Python 3 (ipykernel)",
   "language": "python",
   "name": "python3"
  },
  "language_info": {
   "codemirror_mode": {
    "name": "ipython",
    "version": 3
   },
   "file_extension": ".py",
   "mimetype": "text/x-python",
   "name": "python",
   "nbconvert_exporter": "python",
   "pygments_lexer": "ipython3",
   "version": "3.11.4"
  }
 },
 "nbformat": 4,
 "nbformat_minor": 5
}
