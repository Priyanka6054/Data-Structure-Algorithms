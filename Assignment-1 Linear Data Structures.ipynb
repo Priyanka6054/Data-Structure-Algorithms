{
 "cells": [
  {
   "cell_type": "markdown",
   "id": "60f08ee9",
   "metadata": {},
   "source": [
    "# Problem for Assignment-1: Linear Data Structures"
   ]
  },
  {
   "cell_type": "markdown",
   "id": "7e701d94",
   "metadata": {},
   "source": [
    "# 1. Delete the elements in an linked list whose sum is equal to zero"
   ]
  },
  {
   "cell_type": "code",
   "execution_count": 11,
   "id": "77e611a6",
   "metadata": {},
   "outputs": [
    {
     "name": "stdout",
     "output_type": "stream",
     "text": [
      "Original linked list:\n",
      "3 -> 1 -> -4 -> 2 -> -1 -> 6 -> None\n",
      "\n",
      "Linked list after deletion of zero sum sublists:\n",
      "2 -> -1 -> 6 -> None\n"
     ]
    }
   ],
   "source": [
    "class LinkedList:\n",
    "    def __init__(self, val=0, next=None):\n",
    "        self.val = val\n",
    "        self.next = next\n",
    "\n",
    "        \n",
    "def delete_zero_sum_sublists(head):\n",
    "    dummy = LinkedList(0)\n",
    "    dummy.next = head\n",
    "    prefix_sum = 0\n",
    "    prefix_sum_map = {}\n",
    "    \n",
    "    current = dummy\n",
    "    while current:\n",
    "        prefix_sum += current.val\n",
    "        prefix_sum_map[prefix_sum] = current\n",
    "        current = current.next\n",
    "    \n",
    "    current = dummy\n",
    "    prefix_sum = 0\n",
    "    while current:\n",
    "        prefix_sum += current.val\n",
    "        if prefix_sum in prefix_sum_map:\n",
    "            current.next = prefix_sum_map[prefix_sum].next\n",
    "        current = current.next\n",
    "    \n",
    "    return dummy.next\n",
    "\n",
    "def print_linked_list(head):\n",
    "    current = head\n",
    "    while current:\n",
    "        print(current.val, end=\" -> \")\n",
    "        current = current.next\n",
    "    print(\"None\")\n",
    "\n",
    "# Example usage:\n",
    "if __name__ == \"__main__\":\n",
    "    # Creating a linked list: 3 -> 1 -> -4 -> 2 -> -1 -> 6\n",
    "    head = LinkedList(3)\n",
    "    head.next = LinkedList(1)\n",
    "    head.next.next = LinkedList(-4)\n",
    "    head.next.next.next = LinkedList(2)\n",
    "    head.next.next.next.next = LinkedList(-1)\n",
    "    head.next.next.next.next.next = LinkedList(6)\n",
    "\n",
    "    print(\"Original linked list:\")\n",
    "    print_linked_list(head)\n",
    "\n",
    "    head = delete_zero_sum_sublists(head)\n",
    "\n",
    "    print(\"\\nLinked list after deletion of zero sum sublists:\")\n",
    "    print_linked_list(head)\n"
   ]
  },
  {
   "cell_type": "markdown",
   "id": "fa54e575",
   "metadata": {},
   "source": [
    "# 2. Reverse a linked list in groups of given size"
   ]
  },
  {
   "cell_type": "code",
   "execution_count": 12,
   "id": "a0aca45a",
   "metadata": {},
   "outputs": [
    {
     "name": "stdout",
     "output_type": "stream",
     "text": [
      "Original linked list:\n",
      "1 -> 2 -> 3 -> 4 -> 5 -> 6 -> 7 -> 8 -> None\n",
      "\n",
      "Linked list after reversing in groups of 3:\n",
      "3 -> 4 -> 5 -> 6 -> 7 -> 8 -> 1 -> 2 -> None\n"
     ]
    }
   ],
   "source": [
    "class LinkedList_Node:\n",
    "    def __init__(self, val=0, next=None):\n",
    "        self.val = val\n",
    "        self.next = next\n",
    "\n",
    "def reverse_linked_list_in_groups(head, k):\n",
    "    if not head or k == 1:\n",
    "        return head\n",
    "\n",
    "    dummy = LinkedList_Node(0)\n",
    "    dummy.next = head\n",
    "    prev_group_tail = dummy\n",
    "\n",
    "    while True:\n",
    "        current = prev_group_tail.next\n",
    "        group_tail = prev_group_tail\n",
    "\n",
    "        # Move 'current' k steps forward or until the end of the list\n",
    "        for _ in range(k):\n",
    "            group_tail = group_tail.next\n",
    "            if not group_tail:\n",
    "                return dummy.next\n",
    "\n",
    "        next_group_head = group_tail.next\n",
    "\n",
    "        prev = next_group_head\n",
    "        current = prev_group_tail.next\n",
    "        while current != next_group_head:\n",
    "            temp = current.next\n",
    "            current.next = prev\n",
    "            prev = current\n",
    "            current = temp\n",
    "\n",
    "        # Connect the reversed group to the rest of the list\n",
    "        prev_group_tail.next.next = next_group_head\n",
    "        prev_group_tail.next = group_tail\n",
    "\n",
    "        prev_group_tail = prev_group_tail.next\n",
    "\n",
    "    return dummy.next\n",
    "\n",
    "def print_linked_list(head):\n",
    "    current = head\n",
    "    while current:\n",
    "        print(current.val, end=\" -> \")\n",
    "        current = current.next\n",
    "    print(\"None\")\n",
    "\n",
    "# Example usage:\n",
    "if __name__ == \"__main__\":\n",
    "    # Creating a linked list: 1 -> 2 -> 3 -> 4 -> 5 -> 6 -> 7 -> 8\n",
    "    head = LinkedList_Node(1)\n",
    "    current = head\n",
    "    for i in range(2, 9):\n",
    "        current.next = LinkedList_Node(i)\n",
    "        current = current.next\n",
    "\n",
    "    print(\"Original linked list:\")\n",
    "    print_linked_list(head)\n",
    "\n",
    "    k = 3\n",
    "    head = reverse_linked_list_in_groups(head, k)\n",
    "\n",
    "    print(f\"\\nLinked list after reversing in groups of {k}:\")\n",
    "    print_linked_list(head)"
   ]
  },
  {
   "cell_type": "markdown",
   "id": "f1b4baec",
   "metadata": {},
   "source": [
    "# 3 Merge a linked list into another linked list at alternate positions."
   ]
  },
  {
   "cell_type": "code",
   "execution_count": 13,
   "id": "c7e397cb",
   "metadata": {},
   "outputs": [
    {
     "name": "stdout",
     "output_type": "stream",
     "text": [
      "List 1:\n",
      "1 -> 3 -> 5 -> None\n",
      "List 2:\n",
      "2 -> 4 -> 6 -> None\n",
      "\n",
      "Merged List:\n",
      "1 -> 2 -> 3 -> 4 -> 5 -> 6 -> None\n"
     ]
    }
   ],
   "source": [
    "class Node:\n",
    "    def __init__(self, data):\n",
    "        self.data = data\n",
    "        self.next = None\n",
    "\n",
    "class LinkedList:\n",
    "    def __init__(self):\n",
    "        self.head = None\n",
    "\n",
    "    def append(self, data):\n",
    "        new_node = Node(data)\n",
    "        if not self.head:\n",
    "            self.head = new_node\n",
    "            return\n",
    "        last_node = self.head\n",
    "        while last_node.next:\n",
    "            last_node = last_node.next\n",
    "        last_node.next = new_node\n",
    "\n",
    "    def merge_alternate(self, other_list):\n",
    "        current = self.head\n",
    "        other_current = other_list.head\n",
    "\n",
    "        while current and other_current:\n",
    "            # Save next pointers\n",
    "            next_current = current.next\n",
    "            next_other_current = other_current.next\n",
    "\n",
    "            # Make current node point to other_current's next node\n",
    "            current.next = other_current\n",
    "\n",
    "            # Make other_current point to saved next pointer of current\n",
    "            other_current.next = next_current\n",
    "\n",
    "            # Move current and other_current to their next nodes\n",
    "            current = next_current\n",
    "            other_current = next_other_current\n",
    "\n",
    "        other_list.head = other_current\n",
    "\n",
    "    def display(self):\n",
    "        current = self.head\n",
    "        while current:\n",
    "            print(current.data, end=\" -> \")\n",
    "            current = current.next\n",
    "        print(\"None\")\n",
    "\n",
    "\n",
    "# Example usage:\n",
    "if __name__ == \"__main__\":\n",
    "    # Create two linked lists\n",
    "    list1 = LinkedList()\n",
    "    list1.append(1)\n",
    "    list1.append(3)\n",
    "    list1.append(5)\n",
    "\n",
    "    list2 = LinkedList()\n",
    "    list2.append(2)\n",
    "    list2.append(4)\n",
    "    list2.append(6)\n",
    "\n",
    "    print(\"List 1:\")\n",
    "    list1.display()\n",
    "    print(\"List 2:\")\n",
    "    list2.display()\n",
    "\n",
    "    # Merge alternate\n",
    "    list1.merge_alternate(list2)\n",
    "\n",
    "    print(\"\\nMerged List:\")\n",
    "    list1.display()\n"
   ]
  },
  {
   "cell_type": "markdown",
   "id": "590474de",
   "metadata": {},
   "source": [
    "# 4. In an array, Count Pairs with given sum"
   ]
  },
  {
   "cell_type": "code",
   "execution_count": 14,
   "id": "b1182378",
   "metadata": {},
   "outputs": [
    {
     "name": "stdout",
     "output_type": "stream",
     "text": [
      "Number of pairs with sum 6 : 3\n"
     ]
    }
   ],
   "source": [
    "def count_pairs_with_sum(arr, target_sum):\n",
    "    num_freq = {}\n",
    "    count = 0\n",
    "\n",
    "    for num in arr:\n",
    "        # Calculate the difference between the target sum and the current number\n",
    "        difference = target_sum - num\n",
    "\n",
    "        if difference in num_freq:\n",
    "            count += num_freq[difference]\n",
    "        num_freq[num] = num_freq.get(num, 0) + 1\n",
    "\n",
    "    return count\n",
    "\n",
    "# Example:\n",
    "if __name__ == \"__main__\":\n",
    "    arr = [1, 5, 7, -1, 5]\n",
    "    target_sum = 6\n",
    "    print(\"Number of pairs with sum\", target_sum, \":\", count_pairs_with_sum(arr, target_sum))\n"
   ]
  },
  {
   "cell_type": "markdown",
   "id": "f674c775",
   "metadata": {},
   "source": [
    "# 5. Find duplicates in an array"
   ]
  },
  {
   "cell_type": "code",
   "execution_count": 15,
   "id": "9af72a38",
   "metadata": {},
   "outputs": [
    {
     "name": "stdout",
     "output_type": "stream",
     "text": [
      "Duplicates in the array: [2, 3]\n"
     ]
    }
   ],
   "source": [
    "def find_duplicates(arr):\n",
    "    seen = set()\n",
    "    duplicates = set()\n",
    "\n",
    "    for num in arr:\n",
    "        if num in seen:\n",
    "            duplicates.add(num)\n",
    "        else:\n",
    "            seen.add(num)\n",
    "\n",
    "    return list(duplicates)\n",
    "\n",
    "# Example:\n",
    "if __name__ == \"__main__\":\n",
    "    arr = [4, 3, 2, 7, 8, 2, 3, 1]\n",
    "    print(\"Duplicates in the array:\", find_duplicates(arr))\n"
   ]
  },
  {
   "cell_type": "markdown",
   "id": "0e453f94",
   "metadata": {},
   "source": [
    "# 6. Find the Kth largest and Kth smallest number in an array"
   ]
  },
  {
   "cell_type": "code",
   "execution_count": 19,
   "id": "4aa11213",
   "metadata": {},
   "outputs": [
    {
     "name": "stdout",
     "output_type": "stream",
     "text": [
      "Array: [7, 10, 4, 3, 20, 15]\n",
      "3th largest number: 10\n",
      "3th smallest number: 7\n"
     ]
    }
   ],
   "source": [
    "def find_kth_largest(arr, k):\n",
    "    sorted_arr = sorted(arr, reverse=True)  # Sort the array in descending order\n",
    "    return sorted_arr[k - 1]  # Return the Kth largest number\n",
    "\n",
    "\n",
    "def find_kth_smallest(arr, k):\n",
    "    sorted_arr = sorted(arr)  # Sort the array in ascending order\n",
    "    return sorted_arr[k - 1]  # Return the Kth smallest number\n",
    "\n",
    "\n",
    "# Example:\n",
    "if __name__ == \"__main__\":\n",
    "    arr = [7, 10, 4, 3, 20, 15]\n",
    "    k = 3\n",
    "\n",
    "    print(\"Array:\", arr)\n",
    "    print(f\"{k}th largest number:\", find_kth_largest(arr, k))\n",
    "    print(f\"{k}th smallest number:\", find_kth_smallest(arr, k))\n"
   ]
  },
  {
   "cell_type": "markdown",
   "id": "d3b53abb",
   "metadata": {},
   "source": [
    "# 7. Move all the negative elements to one side of the array"
   ]
  },
  {
   "cell_type": "code",
   "execution_count": 21,
   "id": "0c6dbe22",
   "metadata": {},
   "outputs": [
    {
     "name": "stdout",
     "output_type": "stream",
     "text": [
      "Original array: [-12, 11, -13, -5, 6, 7, 5, -3, -6]\n",
      "Array after moving negatives to one side: [-12, -6, -13, -5, -3, 7, 5, 6, 11]\n"
     ]
    }
   ],
   "source": [
    "def move_negatives(arr):\n",
    "    left = 0  # Pointer for negative elements\n",
    "    right = len(arr) - 1  # Pointer for positive elements\n",
    "\n",
    "    while left <= right:\n",
    "        # If element at left pointer is negative, move to next element\n",
    "        if arr[left] < 0:\n",
    "            left += 1\n",
    "        # If element at right pointer is positive, move to previous element\n",
    "        elif arr[right] >= 0:\n",
    "            right -= 1\n",
    "        # If both elements are at wrong places, swap them\n",
    "        else:\n",
    "            arr[left], arr[right] = arr[right], arr[left]\n",
    "            left += 1\n",
    "            right -= 1\n",
    "\n",
    "# Example usage:\n",
    "if __name__ == \"__main__\":\n",
    "    arr = [-12, 11, -13, -5, 6, 7, 5, -3, -6]\n",
    "    print(\"Original array:\", arr)\n",
    "    move_negatives(arr)\n",
    "    print(\"Array after moving negatives to one side:\", arr)\n"
   ]
  },
  {
   "cell_type": "markdown",
   "id": "f3c85dd2",
   "metadata": {},
   "source": [
    "# 8. Reverse a string using a stack data structure"
   ]
  },
  {
   "cell_type": "code",
   "execution_count": 22,
   "id": "b7dd3475",
   "metadata": {},
   "outputs": [
    {
     "name": "stdout",
     "output_type": "stream",
     "text": [
      "Original string: Hello, world!\n",
      "Reversed string: !dlrow ,olleH\n"
     ]
    }
   ],
   "source": [
    "class Stack:\n",
    "    def __init__(self):\n",
    "        self.items = []\n",
    "\n",
    "    def is_empty(self):\n",
    "        return len(self.items) == 0\n",
    "\n",
    "    def push(self, item):\n",
    "        self.items.append(item)\n",
    "\n",
    "    def pop(self):\n",
    "        if not self.is_empty():\n",
    "            return self.items.pop()\n",
    "        else:\n",
    "            return None\n",
    "\n",
    "def reverse_string(string):\n",
    "    stack = Stack()\n",
    "\n",
    "    # Push each character of the string onto the stack\n",
    "    for char in string:\n",
    "        stack.push(char)\n",
    "\n",
    "    reversed_string = \"\"\n",
    "    # Pop characters from the stack to construct the reversed string\n",
    "    while not stack.is_empty():\n",
    "        reversed_string += stack.pop()\n",
    "\n",
    "    return reversed_string\n",
    "\n",
    "# Example usage:\n",
    "if __name__ == \"__main__\":\n",
    "    string = \"Hello, world!\"\n",
    "    print(\"Original string:\", string)\n",
    "    reversed_string = reverse_string(string)\n",
    "    print(\"Reversed string:\", reversed_string)\n"
   ]
  },
  {
   "cell_type": "markdown",
   "id": "956665d0",
   "metadata": {},
   "source": [
    "# 9. Evaluate a postfix expression using stack"
   ]
  },
  {
   "cell_type": "code",
   "execution_count": 23,
   "id": "bdaea8c4",
   "metadata": {},
   "outputs": [
    {
     "name": "stdout",
     "output_type": "stream",
     "text": [
      "Postfix expression: 82+3-\n",
      "Result: 7\n"
     ]
    }
   ],
   "source": [
    "class Stack:\n",
    "    def __init__(self):\n",
    "        self.items = []\n",
    "\n",
    "    def is_empty(self):\n",
    "        return len(self.items) == 0\n",
    "\n",
    "    def push(self, item):\n",
    "        self.items.append(item)\n",
    "\n",
    "    def pop(self):\n",
    "        if not self.is_empty():\n",
    "            return self.items.pop()\n",
    "        else:\n",
    "            return None\n",
    "\n",
    "def evaluate_postfix(expression):\n",
    "    stack = Stack()\n",
    "\n",
    "    for char in expression:\n",
    "        if char.isdigit():\n",
    "            stack.push(int(char))\n",
    "        else:\n",
    "            operand2 = stack.pop()\n",
    "            operand1 = stack.pop()\n",
    "            result = perform_operation(operand1, operand2, char)\n",
    "            stack.push(result)\n",
    "\n",
    "    return stack.pop()\n",
    "\n",
    "def perform_operation(operand1, operand2, operator):\n",
    "    if operator == '+':\n",
    "        return operand1 + operand2\n",
    "    elif operator == '-':\n",
    "        return operand1 - operand2\n",
    "    elif operator == '*':\n",
    "        return operand1 * operand2\n",
    "    elif operator == '/':\n",
    "        return operand1 // operand2  # Integer division for simplicity\n",
    "\n",
    "# Example usage:\n",
    "if __name__ == \"__main__\":\n",
    "    expression = \"82+3-\"\n",
    "    print(\"Postfix expression:\", expression)\n",
    "    result = evaluate_postfix(expression)\n",
    "    print(\"Result:\", result)\n"
   ]
  },
  {
   "cell_type": "markdown",
   "id": "1e41b378",
   "metadata": {},
   "source": [
    "# 10. Implement a queue using the stack data structure"
   ]
  },
  {
   "cell_type": "code",
   "execution_count": 24,
   "id": "0995dc7b",
   "metadata": {},
   "outputs": [
    {
     "name": "stdout",
     "output_type": "stream",
     "text": [
      "Dequeue: 1\n",
      "Dequeue: 2\n",
      "Peek: 3\n",
      "Dequeue: 3\n",
      "Dequeue: 4\n",
      "Dequeue: None\n"
     ]
    }
   ],
   "source": [
    "class QueueUsingStack:\n",
    "    def __init__(self):\n",
    "        self.stack_enqueue = []\n",
    "        self.stack_dequeue = []\n",
    "\n",
    "    def is_empty(self):\n",
    "        return len(self.stack_enqueue) == 0 and len(self.stack_dequeue) == 0\n",
    "\n",
    "    def enqueue(self, item):\n",
    "        # Push all elements from stack_dequeue to stack_enqueue to maintain order\n",
    "        while self.stack_dequeue:\n",
    "            self.stack_enqueue.append(self.stack_dequeue.pop())\n",
    "        # Push the new item onto stack_enqueue\n",
    "        self.stack_enqueue.append(item)\n",
    "\n",
    "    def dequeue(self):\n",
    "        # If stack_dequeue is empty, transfer elements from stack_enqueue\n",
    "        if not self.stack_dequeue:\n",
    "            while self.stack_enqueue:\n",
    "                self.stack_dequeue.append(self.stack_enqueue.pop())\n",
    "        # Pop from stack_dequeue\n",
    "        if self.stack_dequeue:\n",
    "            return self.stack_dequeue.pop()\n",
    "        else:\n",
    "            return None\n",
    "\n",
    "    def peek(self):\n",
    "        # If stack_dequeue is empty, transfer elements from stack_enqueue\n",
    "        if not self.stack_dequeue:\n",
    "            while self.stack_enqueue:\n",
    "                self.stack_dequeue.append(self.stack_enqueue.pop())\n",
    "        # Peek at the top of stack_dequeue\n",
    "        if self.stack_dequeue:\n",
    "            return self.stack_dequeue[-1]\n",
    "        else:\n",
    "            return None\n",
    "\n",
    "# Example usage:\n",
    "if __name__ == \"__main__\":\n",
    "    queue = QueueUsingStack()\n",
    "    queue.enqueue(1)\n",
    "    queue.enqueue(2)\n",
    "    queue.enqueue(3)\n",
    "\n",
    "    print(\"Dequeue:\", queue.dequeue())  \n",
    "    print(\"Dequeue:\", queue.dequeue())  \n",
    "\n",
    "    queue.enqueue(4)\n",
    "    print(\"Peek:\", queue.peek()) \n",
    "    print(\"Dequeue:\", queue.dequeue())  \n",
    "    print(\"Dequeue:\", queue.dequeue()) \n",
    "    print(\"Dequeue:\", queue.dequeue())  \n"
   ]
  },
  {
   "cell_type": "code",
   "execution_count": null,
   "id": "d619f38a",
   "metadata": {},
   "outputs": [],
   "source": []
  }
 ],
 "metadata": {
  "kernelspec": {
   "display_name": "Python 3 (ipykernel)",
   "language": "python",
   "name": "python3"
  },
  "language_info": {
   "codemirror_mode": {
    "name": "ipython",
    "version": 3
   },
   "file_extension": ".py",
   "mimetype": "text/x-python",
   "name": "python",
   "nbconvert_exporter": "python",
   "pygments_lexer": "ipython3",
   "version": "3.11.4"
  }
 },
 "nbformat": 4,
 "nbformat_minor": 5
}
